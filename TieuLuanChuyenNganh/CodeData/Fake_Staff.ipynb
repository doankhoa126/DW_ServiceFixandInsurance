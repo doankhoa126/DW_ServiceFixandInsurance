{
 "cells": [
  {
   "cell_type": "code",
   "execution_count": 20,
   "id": "b6f16495",
   "metadata": {
    "scrolled": true
   },
   "outputs": [
    {
     "name": "stdout",
     "output_type": "stream",
     "text": [
      "Insert Into Dim_Staff(Staff_ID,Staff_FullName,Address,Phone_Number,Email,Position) values('St458',N'Đoàn Văn Khôi',N'366/133/ Bình Phú/Quận 10','0372017077','doankhoi@gmail.com',N'Thu Ngân');\n",
      "Insert Into Dim_Staff(Staff_ID,Staff_FullName,Address,Phone_Number,Email,Position) values('St469',N'Hồ Hoài Dũng',N'258/686/Đường số 25/Huyện Củ Chi','0981981734','hodung@gmail.com',N'Thu Ngân');\n",
      "Insert Into Dim_Staff(Staff_ID,Staff_FullName,Address,Phone_Number,Email,Position) values('St468',N'Đoàn Thị Hoàng',N'732/370/ Tam Châu/Quận 7','0789753115','doanhoang@gmail.com',N'Thu Ngân');\n",
      "Insert Into Dim_Staff(Staff_ID,Staff_FullName,Address,Phone_Number,Email,Position) values('St519',N'Tống Kim Nghị',N'724/374/Đường số 26/An Nhơn Tây','0934503332','tongnghi@gmail.com',N'Thu Ngân');\n",
      "Insert Into Dim_Staff(Staff_ID,Staff_FullName,Address,Phone_Number,Email,Position) values('St503',N'Lê Quang Huy',N'489/743/Đường số 35/Phường 15','0779710504','lehuy@gmail.com',N'Thu Ngân');\n",
      "Insert Into Dim_Staff(Staff_ID,Staff_FullName,Address,Phone_Number,Email,Position) values('St538',N'Bùi Thu Hùng',N'746/652/ Đường số 45/Tân Định','0346176843','buihung@gmail.com',N'Thu Ngân');\n",
      "Insert Into Dim_Staff(Staff_ID,Staff_FullName,Address,Phone_Number,Email,Position) values('St482',N'Nông Khánh Lan',N'634/562/ Dân Chủ/Huyện Nhà Bè','0816706416','nonglan@gmail.com',N'Thu Ngân');\n",
      "Insert Into Dim_Staff(Staff_ID,Staff_FullName,Address,Phone_Number,Email,Position) values('St457',N'Đoàn Thành Nguyệt',N'60/223/Hòa Hưng/Bến Thành','0841785229','doannguyet@gmail.com',N'Thu Ngân');\n",
      "Insert Into Dim_Staff(Staff_ID,Staff_FullName,Address,Phone_Number,Email,Position) values('St493',N'Tôn Minh Mẫn',N'696/991/Ngô Quyền/Quận 2','0332133499','tonman@gmail.com',N'Thu Ngân');\n",
      "Insert Into Dim_Staff(Staff_ID,Staff_FullName,Address,Phone_Number,Email,Position) values('St518',N'Nông Hoài Bình',N'395/739/ Đường số 47/Quận 11','0947654997','nongbinh@gmail.com',N'Thu Ngân');\n",
      "Insert Into Dim_Staff(Staff_ID,Staff_FullName,Address,Phone_Number,Email,Position) values('St537',N'Thái Nguyên Trung',N'716/402/ Lê Thị Hoa/Quận 8','0924657375','thaitrung@gmail.com',N'Thu Ngân');\n",
      "Insert Into Dim_Staff(Staff_ID,Staff_FullName,Address,Phone_Number,Email,Position) values('St490',N'Dương Đức Trúc',N'132/563/Tam Bình/Phường 12','0926958845','duongtruc@gmail.com',N'Thu Ngân');\n",
      "Insert Into Dim_Staff(Staff_ID,Staff_FullName,Address,Phone_Number,Email,Position) values('St540',N'Thái An Nghĩa',N'792/668/Chấn Hưng/Thủ Thiêm','0565644086','thainghia@gmail.com',N'Thu Ngân');\n",
      "Insert Into Dim_Staff(Staff_ID,Staff_FullName,Address,Phone_Number,Email,Position) values('St491',N'Hồ Khánh Trung',N'924/952/Hoàng Hoa Thám/Quận Bình Thạnh','0976531831','hotrung@gmail.com',N'Thu Ngân');\n",
      "Insert Into Dim_Staff(Staff_ID,Staff_FullName,Address,Phone_Number,Email,Position) values('St468',N'Phan Diệu Đăng',N'585/964/ Linh Xuân/Phường 03','0361717677','phandang@gmail.com',N'Thu Ngân');\n",
      "Insert Into Dim_Staff(Staff_ID,Staff_FullName,Address,Phone_Number,Email,Position) values('St466',N'Phan Kim Thi',N'919/618/ Đường số 2/Tăng Nhơn Phú B','0389513821','phanthi@gmail.com',N'Thu Ngân');\n",
      "Insert Into Dim_Staff(Staff_ID,Staff_FullName,Address,Phone_Number,Email,Position) values('St476',N'Tôn Thế Trâm',N'677/123/Quốc Lộ 1K/Quận 4','0364089996','tontram@gmail.com',N'Thu Ngân');\n",
      "Insert Into Dim_Staff(Staff_ID,Staff_FullName,Address,Phone_Number,Email,Position) values('St547',N'Lê Thị Hà',N'47/395/ Đường số 3/Huyện Bình Chánh','0355603419','leha@gmail.com',N'Thu Ngân');\n",
      "Insert Into Dim_Staff(Staff_ID,Staff_FullName,Address,Phone_Number,Email,Position) values('St458',N'Đặng Thị Nhung',N'226/928/ Đường số 1/Tân Định','0983279120','dangnhung@gmail.com',N'Thu Ngân');\n",
      "Insert Into Dim_Staff(Staff_ID,Staff_FullName,Address,Phone_Number,Email,Position) values('St465',N'Mai Hoài Nhi',N'597/620/ Nguyễn Khuyến/Phường 11','0844363597','mainhi@gmail.com',N'Thu Ngân');\n",
      "Insert Into Dim_Staff(Staff_ID,Staff_FullName,Address,Phone_Number,Email,Position) values('St500',N'Thái Ngọc Khoa',N'475/567/Phú Hữu/Tân Phú','0891977697','thaikhoa@gmail.com',N'Thu Ngân');\n",
      "Insert Into Dim_Staff(Staff_ID,Staff_FullName,Address,Phone_Number,Email,Position) values('St539',N'Đinh Đức Châu',N'805/575/Trần Khánh Dư/Quận 4','0342868835','dinhchau@gmail.com',N'Thu Ngân');\n",
      "Insert Into Dim_Staff(Staff_ID,Staff_FullName,Address,Phone_Number,Email,Position) values('St510',N'Bùi Kim Khánh',N'661/348/ Linh Đông/Bình Trị Đông','0937031262','buikhanh@gmail.com',N'Thu Ngân');\n",
      "Insert Into Dim_Staff(Staff_ID,Staff_FullName,Address,Phone_Number,Email,Position) values('St533',N'Liêu Hồng Nghĩa',N'39/497/ Đường số 6/An Lạc','0774082217','lieunghia@gmail.com',N'Thu Ngân');\n",
      "Insert Into Dim_Staff(Staff_ID,Staff_FullName,Address,Phone_Number,Email,Position) values('St468',N'Phùng Văn Huy',N'516/320/Hiệp Bình/Tân Định','0394388019','phunghuy@gmail.com',N'Thu Ngân');\n",
      "Insert Into Dim_Staff(Staff_ID,Staff_FullName,Address,Phone_Number,Email,Position) values('St541',N'Đoàn Đức Lan',N'195/719/ Đường số 44/Quận Gò Vấp','0521790442','doanlan@gmail.com',N'Thu Ngân');\n",
      "Insert Into Dim_Staff(Staff_ID,Staff_FullName,Address,Phone_Number,Email,Position) values('St511',N'Lê Đức Minh',N'637/496/ Nguyễn Khuyến/Quận 7','0762850911','leminh@gmail.com',N'Thu Ngân');\n",
      "Insert Into Dim_Staff(Staff_ID,Staff_FullName,Address,Phone_Number,Email,Position) values('St460',N'Phùng Văn Phương',N'592/539/Lý Thường Kiệt/Phường 11','0588446794','phungphuong@gmail.com',N'Thu Ngân');\n",
      "Insert Into Dim_Staff(Staff_ID,Staff_FullName,Address,Phone_Number,Email,Position) values('St530',N'Lý Văn Nguyệt',N'78/513/ Đường số 47/Hiệp Phú','0914870909','lynguyet@gmail.com',N'Thu Ngân');\n"
     ]
    }
   ],
   "source": [
    "import random\n",
    "import unidecode\n",
    "import string\n",
    "\n",
    "first_names = ['Trần', 'Lê', 'Nguyễn', 'Đoàn', 'Đào', 'Lý', 'Bùi', 'Phạm', 'Phan', 'Đặng', 'Ngô', 'Huỳnh', 'Đỗ', 'Hồ', 'Đinh', 'Dương', 'Phùng', 'Tô', 'Ninh', 'Tống', 'Lữ', 'Liêu', 'Trịnh', 'Hứa', 'Tôn', 'Tạ', 'Mai','Ong','Nông','Thái','Lại','Võ',]\n",
    "\n",
    "middle_names = [\"Đức\", \"Huỳnh Minh\", \"Tấn\", \"Thế\", \"Thị\", \"Văn\", \"Hữu\", \"Quang\", \"Nguyên\", \"Thành\", \"Minh\", \"Trọng\", \"Đinh\", \"Ngọc\", \"Diệu\", \"Đức\", \"Hoài\", \"Hồng\", 'Phương','Khánh','An', \"Thị\", \"Văn\", \"Thị\", \"Văn\", \"Thị\", \"Văn\",\"Thị\", \"Văn\",'Như','Kim','Thu','Hồng']\n",
    "\n",
    "last_names = [\"Đạt\", \"Trung\", \"Ngọc\", \"Khanh\", \"Bình\", \"Tín\", \"Minh\", \"Nghĩa\", \"Vy\", \"Thảo\", \"Phương\", \"Khánh\", \"Huy\", \"Hiếu\", \"An\", \"Anh\", \"Trân\", \"Linh\", \"Phú\", \"Thanh\", \"Tú\",'Khoa','Dũng','Tiên','Ngân','Tuyền','Thắng','Tài','Huy','Hoàng','Đăng','Đạt','Cường','Khôi','Hùng','Quang','Khải','An','Bảo','Nghị','Hiếu','Hiền','Bình','Lan','Chi','Thúy','Ý','Hà','Hân','Nghi','Châu','Nhi','Trị','My','Nguyệt','Nhung','Diệp','Nga','Mẫn','Uyên','Duy','Huỳnh','Trâm','Liên','Châu','Tường','Thi','Trúc','Tâm','Thư','Lan','Cúc','Huệ','Mai','Hồng','Đào','Bình']\n",
    "\n",
    "\n",
    "street_names_vn = ['Võ Văn Ngân', 'Phạm Văn Đồng', 'Nguyễn Thị Minh Khai', 'Nguyễn Du', 'Lý Thường Kiệt','Ngô Quyền', 'Điện Biên Phủ','Hồ Thị Kỷ','Nguyễn Chí Thanh','Hoàng Hoa Thám', 'Quang Trung', 'Ngô Gia Tự', 'Phan Viết Chánh', 'Bạch Đằng', 'Nguyễn Khuyến', 'Hòa Hảo', 'Trần Duy Hưng', 'Trần Phú', 'Phan Bội Châu', 'Lý Thái Tổ', 'Phạm Ngũ Lão', 'Lê Hông Phong', 'Đào Duy Từ', 'Mạc Thị Bưởi','Trần Khánh Dư', 'Vĩnh Viễn' ,'Y Bih Alêô', 'Ngô Tất Tố', 'Ama Khê', 'Chấn Hưng', 'Nơ Trang Long', 'Bà Giang', '2 Đường số 24', ' Đường số 6', ' Nguyễn Khuyến', ' Bác Ái', 'Đường số 25', ' Đường số 7', ' Nguyễn Văn Bá', ' Bình Chiểu', 'Đường số 26', ' Đường số 8', 'Nguyễn Văn Lịch', ' Bình Phú', ' Đường số 27', ' Đường số 9', ' Phạm Văn Đồng', ' Bồi Hoàn', ' Đường số 28', ' Dương Văn Cam', ' Phú Châu', ' Cây Keo', ' Đường số 29', ' Einstein', ' Phượng Vĩ', ' Chân Lý', ' Đường số 3', ' Gò Dưa', ' Quốc Lộ 13', ' Chu Mạnh Trinh', ' Đường số 30', ' Hàn Thuyên', 'Quốc Lộ 1A', 'Chương Dương', 'Đường số 31', 'Hiệp Bình', 'Quốc Lộ 1K', ' Công Lý', ' Đường số 32', ' Hồ Văn Tư', ' Quy Đức', ' Dân Chủ', ' Đường số 33', ' Hòa Bình', ' Rạch Lùng', ' Đặng Thị Rành', 'Đường số 34', ' Hoàng Diệu', 'Tam Bình',  'Đặng Văn Bi', 'Đường số 35', 'Hoàng Diệu 2', ' Tam Châu', ' Đào Trinh Nhất', ' Đường số 36', ' Hồng Đức', ' Tam Hà', ' Đoàn Công Hớn', ' Đường số 37', ' Hữu Nghị', ' Tâm Tâm Xã', ' Đoàn Kết', ' Đường số 38', ' Kha Vạn Cân', ' Thống Nhất',   ' Đường số 1', ' Đường số 39', ' Khổng Tử', ' Tỉnh lộ 42', ' Đường số 10', ' Đường số 4', ' Khu làng Đại Học', ', Tỉnh lộ 43', ' Đường số 11', ' Đường số 40', ' Lam Sơn', ' Tỉnh Lộ 44', ' Đường số 12', ' Đường số 41', ' Lê Quý Đôn', ' Tô Ngọc Vân', ' Đường số 13', ' Đường số 42', ' Lê Thị Hoa', ' Tô Vĩnh Diện', ' Đường số 14', ' Đường số 43', ' Lê Văn Chí', ' Trần Văn Nữa', ' Đường số 147', ' Đường số 44', ' Lê Văn Ninh', ' Trịnh Phong Đán', ' Đường số 15', ' Đường số 45', ' Lê Văn Tách', ' Trường Thọ', ' Đường số 16', ' Đường số 46', ' Linh Đông', ' Truông Tre', ' Đường số 17', ' Đường số 47', ' Linh Trung', ' Trương Văn Ngư', '2 Đường số 18', ' Đường số 48', ' Linh Xuân', ' Ụ Ghe', ' Đường số 19', ' Đường số 49', ' Lương Khải Siêu', ' Võ Tiên Sư', ' Đường số 2', ' Đường số 5', ' Lý Tế Xuyên', ' Võ Văn Ngân', ' Đường số 20', ' Đường số 50', ' Ngô Chí Quốc', ' Xa Lộ Hà Nội', ' Đường số 21', ' Đường số 51', ' Nguyễn An Ninh', ' Xuân Hiệp', ' Đường số 22', '2 Đường số 52', ' Nguyễn Bá Luật', '2 Đường số 23', ' Đường số 53', ' Nguyễn Công Trứ','Tăng Nhơn Phú','Lê Văn Việt','Nguyễn Hữu Cảnh','Tạ Hiền','Độc Lập','Chu An','Hồ Thị Kỷ','Phú Hữu','Đường số 3','Hòa Hưng']\n",
    "\n",
    "#list_so_nha = ['123a','73,5', '192B', '69A', '88', '109C', '30/4', '70B', '483', '559', '425A', '274D', '33/30', '502D', '106', '490B', '94B', '404', '340D', '460', '104C', '33/42', '280','55/12','128/163','19/38','120A/245','182/12','104','243','125',198/125]\n",
    "\n",
    "list_quan = ['Quận 1','Quận 2','Quận 3','Quận 4','Quận 5', 'Quận 6','Quận 7','Quận 8', 'Quận 10','Quận 11','Quận 12','Quận Bình Tân','Quận Bình Thạnh','Quận Gò Vấp','Quận Phú Nhuận','Quận Tân Bình','Quận Tân Phú','Huyện Bình Chánh','Huyện Cần Giờ','Huyện Củ Chi','Huyện Hóc Môn','Huyện Nhà Bè','Tân Phú','Tăng Nhơn Phú A','Tân Định','Đa Cao','Bến Thành','Bến Nghé','Phú Thạnh','Phú Trung','Phú Thọ Hòa','Sơn Kỳ','Tây Thạnh','Hiệp Tân','Hiệp Bình Chánh','Hiệp Phú','Tăng Nhơn Phú B','Phước Long A','Phước Long B','Long Trường','An Phú','Thảo Điền','Bình Trưng Đông','Cát Lái','Thạnh Mỹ Lợi','Thủ Thiêm','Phường 11','Phường 12','Phường 14','Phường 09','Phường 2','Phường 03','Phường 11','Phường 15','Phường 08','Phường 06','Bình Trị Đông','Tân Tạo','An Lạc','An Phú','An Nhơn Tây','Phường 15',]\n",
    "\n",
    "\n",
    "list_first_phone = ['086','096','097','098','039','038','037','036','035','034','032','033', '091','094','088','083','084','085','081','082','070','079','077','076','078','089','090','093','092','052','056','058']\n",
    "\n",
    "list_position =['Thu Ngân']\n",
    "\n",
    "\n",
    "for num in range(1,30):\n",
    "    idcus =random.randint(450,550)\n",
    "    idn = random.choice(string.ascii_letters)\n",
    "    first = random.choice(first_names)\n",
    "    mid =random.choice(middle_names)\n",
    "    last = random.choice(last_names)\n",
    "\n",
    "    n_phone = random.choice(list_first_phone)\n",
    "    phone =random.randint(1000000, 9999999)\n",
    "\n",
    "    street_num = random.randint(100, 999)\n",
    "    \n",
    "    street_numvns = random.randint(10, 999)\n",
    "    street_numvn = random.randint(100, 999)\n",
    "    \n",
    "    street = random.choice(street_names_vn)\n",
    "    state = random.choice(list_quan)\n",
    "    \n",
    "    Position = random.choice(list_position)\n",
    "    \n",
    "    address = f'{street_numvns}/{street_numvn}/{street}/{state}'\n",
    "    fullname= f'{first} {mid} {last}'\n",
    "    fullphone= f'{n_phone}{phone}'\n",
    "    email = first.lower() + last.lower()+'@gmail.com'\n",
    "    id_Staff =f'St{idcus}'\n",
    "\n",
    "    query = \"Insert Into Dim_Staff(Staff_ID,Staff_FullName,Address,Phone_Number,Email,Position) values('{Staff_ID}',N'{fullname}',N'{address}','{fullphone}','{emails}',N'{Position}');\".format(Staff_ID=id_Staff ,fullname=fullname, address = address, fullphone = fullphone, emails=remove_accent(email),Position=Position)\n",
    "\n",
    "    print(query)\n",
    "   # print(f'Insert Into Customer(Customer_ID,Customer_FullName,Address,Phone_Number,Email) values('{fullname}','{fullphone}','{address}','{remove_accent(email)}'')"
   ]
  },
  {
   "cell_type": "code",
   "execution_count": 17,
   "id": "93747bd2",
   "metadata": {},
   "outputs": [
    {
     "name": "stdout",
     "output_type": "stream",
     "text": [
      "nongan@gmail.com\n"
     ]
    }
   ],
   "source": [
    "def remove_accent(email):\n",
    "    return unidecode.unidecode(email)\n",
    "print(remove_accent(email))\n"
   ]
  },
  {
   "cell_type": "code",
   "execution_count": null,
   "id": "d1f11a92",
   "metadata": {},
   "outputs": [],
   "source": []
  }
 ],
 "metadata": {
  "kernelspec": {
   "display_name": "Python 3 (ipykernel)",
   "language": "python",
   "name": "python3"
  },
  "language_info": {
   "codemirror_mode": {
    "name": "ipython",
    "version": 3
   },
   "file_extension": ".py",
   "mimetype": "text/x-python",
   "name": "python",
   "nbconvert_exporter": "python",
   "pygments_lexer": "ipython3",
   "version": "3.9.13"
  }
 },
 "nbformat": 4,
 "nbformat_minor": 5
}
